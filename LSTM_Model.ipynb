{
 "cells": [
  {
   "cell_type": "markdown",
   "metadata": {},
   "source": [
    "## Libraries"
   ]
  },
  {
   "cell_type": "code",
   "execution_count": 2,
   "metadata": {},
   "outputs": [],
   "source": [
    "%reload_ext autoreload\n",
    "%autoreload 2\n",
    "%matplotlib inline\n",
    "\n",
    "import os\n",
    "import re\n",
    "import sys\n",
    "import spacy  # just for NLP\n",
    "import pickle\n",
    "import seaborn as sns\n",
    "import numpy as np\n",
    "import pandas as pd\n",
    "import matplotlib.pyplot as plt\n",
    "\n",
    "from glob import glob\n",
    "import tqdm\n",
    "\n",
    "from sklearn.utils import resample \n",
    "from sklearn.metrics import confusion_matrix\n",
    "\n",
    "\n",
    "import torch\n",
    "import torch.nn as nn\n",
    "import torch.optim as optim\n",
    "import torch.nn.functional as F\n",
    "from torch.utils.data import DataLoader, Dataset\n",
    "\n",
    "from utils import *\n",
    "from data_utils import *\n",
    "from train_utils import *\n",
    "\n",
    "\n",
    "# setup\n",
    "NLP = spacy.load('en_core_web_sm')  # NLP toolkit"
   ]
  },
  {
   "cell_type": "markdown",
   "metadata": {},
   "source": [
    "## Dataset"
   ]
  },
  {
   "cell_type": "code",
   "execution_count": 3,
   "metadata": {},
   "outputs": [],
   "source": [
    "\n",
    "train_df = pd.read_csv( 'dataset/train.txt', sep=';', names=['content', 'sentiment'], header=0)\n",
    "test_df = pd.read_csv( 'dataset/test.txt', sep=';', names=['content', 'sentiment'], header=0)\n",
    "valid_df = pd.read_csv( 'dataset/val.txt', sep=';', names=['content', 'sentiment'], header=0)\n",
    "\n"
   ]
  },
  {
   "cell_type": "code",
   "execution_count": 7,
   "metadata": {},
   "outputs": [
    {
     "name": "stdout",
     "output_type": "stream",
     "text": [
      "<class 'pandas.core.frame.DataFrame'>\n",
      "Int64Index: 19997 entries, 0 to 1998\n",
      "Data columns (total 2 columns):\n",
      " #   Column     Non-Null Count  Dtype \n",
      "---  ------     --------------  ----- \n",
      " 0   content    19997 non-null  object\n",
      " 1   sentiment  19997 non-null  object\n",
      "dtypes: object(2)\n",
      "memory usage: 468.7+ KB\n"
     ]
    }
   ],
   "source": [
    "# Convert to one dataframe\n",
    "data = pd.concat([train_df, test_df, valid_df], axis=0)\n",
    "data.info()\n"
   ]
  },
  {
   "cell_type": "code",
   "execution_count": 8,
   "metadata": {},
   "outputs": [],
   "source": [
    "# Saving the DataFrame as a csv file\n",
    "data.to_csv(\"dataset/tweet_data_df.csv\", index=False)\n"
   ]
  },
  {
   "cell_type": "code",
   "execution_count": 9,
   "metadata": {},
   "outputs": [],
   "source": [
    "# Dividing the cvs file to distict folders with lable emotion\n",
    "input_folder = \"dataset/tweet_data_df.csv\"\n",
    "output_folder=\"dataset/reduces_dataset\"\n",
    "covert_dataframe_to_devided_folder(input_folder, output_folder)\n"
   ]
  },
  {
   "cell_type": "code",
   "execution_count": 10,
   "metadata": {},
   "outputs": [],
   "source": [
    "# Removing folder as named sentiment \n",
    "import shutil\n",
    "directory=\"/output_folder/sentiment\"\n",
    "shutil.rmtree(\"dataset/reduces_dataset/sentiment\")"
   ]
  },
  {
   "cell_type": "code",
   "execution_count": 11,
   "metadata": {},
   "outputs": [
    {
     "name": "stderr",
     "output_type": "stream",
     "text": [
      "Copying files: 19997 files [04:18, 77.24 files/s] \n"
     ]
    }
   ],
   "source": [
    "\n",
    "\n",
    "import splitfolders\n",
    "input_folder='dataset/reduces_dataset'\n",
    "splitfolders.ratio(input_folder, output=\"dataset/aclImdb/\", seed=1337, ratio=(0.60, 0.2, 0.2)) "
   ]
  },
  {
   "cell_type": "markdown",
   "metadata": {},
   "source": [
    "## Data Pre-processing"
   ]
  },
  {
   "cell_type": "markdown",
   "metadata": {},
   "source": [
    "## Tokenizing"
   ]
  },
  {
   "cell_type": "markdown",
   "metadata": {},
   "source": [
    "### Tokenizer and Vocabulary"
   ]
  },
  {
   "cell_type": "markdown",
   "metadata": {},
   "source": [
    "We have defined a function in `utils.py`, which gets the inputs text and splits it to a sequence of tokens. We have used **SpaCy** toolkit for tokeniztion and you need to install it to run the codes."
   ]
  },
  {
   "cell_type": "markdown",
   "metadata": {
    "collapsed": true
   },
   "source": [
    "```python\n",
    "def tokenizer(text):\n",
    "    text = re.sub(r\"[\\*\\\"“”\\n\\\\…\\+\\-\\/\\=\\(\\)‘•:\\[\\]\\|’;]\", \" \", str(text))\n",
    "    text = re.sub(r\"[ ]+\", \" \", text)\n",
    "    text = re.sub(r\"\\!+\", \"!\", text)\n",
    "    text = re.sub(r\"\\,+\", \",\", text)\n",
    "    text = re.sub(r\"\\?+\", \"?\", text)\n",
    "    return [x.text for x in NLP.tokenizer(text) if x.text != \" \"]\n",
    "```"
   ]
  },
  {
   "cell_type": "code",
   "execution_count": 12,
   "metadata": {},
   "outputs": [
    {
     "data": {
      "text/plain": [
       "['test', 'train', 'val']"
      ]
     },
     "execution_count": 12,
     "metadata": {},
     "output_type": "execute_result"
    }
   ],
   "source": [
    "data_dir=\"dataset/aclImdb/\"\n",
    "os.listdir(data_dir)"
   ]
  },
  {
   "cell_type": "markdown",
   "metadata": {},
   "source": [
    "### Statistics"
   ]
  },
  {
   "cell_type": "code",
   "execution_count": 13,
   "metadata": {},
   "outputs": [
    {
     "data": {
      "application/vnd.jupyter.widget-view+json": {
       "model_id": "5cd395c9390b4ff18edfdd3e423515ff",
       "version_major": 2,
       "version_minor": 0
      },
      "text/plain": [
       "  0%|          | 0/19997 [00:00<?, ?it/s]"
      ]
     },
     "metadata": {},
     "output_type": "display_data"
    },
    {
     "name": "stdout",
     "output_type": "stream",
     "text": [
      "Min length = 2\n",
      "Max length = 66\n",
      "Mean = 19.14\n",
      "Std  = 10.97\n",
      "mean + 2 * sigma = 41.08\n"
     ]
    }
   ],
   "source": [
    "#from tqdm.notebook import trange, tqdm\n",
    "\n",
    "\n",
    "all_filenames = glob(f'{data_dir}/*/*/*.txt')\n",
    "num_words = [len(open(f, encoding=\"utf-8\").read().split(' ')) for f in tqdm.notebook.tqdm(all_filenames)]\n",
    "\n",
    "# print statistics\n",
    "print('Min length =', min(num_words))\n",
    "print('Max length =', max(num_words))\n",
    "\n",
    "print('Mean = {:.2f}'.format(np.mean(num_words)))\n",
    "print('Std  = {:.2f}'.format(np.std(num_words)))\n",
    "\n",
    "print('mean + 2 * sigma = {:.2f}'.format(np.mean(num_words) + 2.0 * np.std(num_words)))"
   ]
  },
  {
   "cell_type": "markdown",
   "metadata": {},
   "source": [
    "## Dataset"
   ]
  },
  {
   "cell_type": "code",
   "execution_count": 15,
   "metadata": {},
   "outputs": [],
   "source": [
    "\n",
    "\n",
    "\n",
    "vocab_path = 'vocab.pkl'\n",
    "\n",
    "# parameters\n",
    "max_len = 66  # By this initilazatio we consider just 200 character of each text. we determine based on mean + 2 * sigma\n",
    "min_count = 2     #we replace every token which repeat less than 10 times with the spetial token. This is UNK = '<unk>'. \n",
    "batch_size = 64"
   ]
  },
  {
   "cell_type": "code",
   "execution_count": 16,
   "metadata": {},
   "outputs": [],
   "source": [
    "PAD = '<pad>'  # special symbol we use for padding text\n",
    "UNK = '<unk>'  # special symbol we use for rare or unknown word"
   ]
  },
  {
   "cell_type": "code",
   "execution_count": 17,
   "metadata": {},
   "outputs": [],
   "source": [
    "class TextClassificationDataset(Dataset):\n",
    "    \n",
    "    def __init__(self, path, tokenizer, \n",
    "                 split='train', \n",
    "                 vocab_path='vocab.pkl', \n",
    "                 max_len=max_len, min_count=min_count):\n",
    "        \n",
    "        self.path = path\n",
    "        assert split in ['train', 'test']\n",
    "        self.split = split\n",
    "        self.vocab_path = vocab_path\n",
    "        self.tokenizer = tokenizer\n",
    "        self.max_len = max_len\n",
    "        self.min_count = min_count\n",
    "        \n",
    "        self.cache = {}\n",
    "        self.vocab = None\n",
    "        \n",
    "        self.classes = []\n",
    "        self.class_to_index = {}\n",
    "        self.text_files = []\n",
    "        \n",
    "        split_path = f'{path}/{split}'\n",
    "        \n",
    "        for cls_idx, label in enumerate(os.listdir(split_path)):\n",
    "            text_files = [(fname, cls_idx) for fname in glob(f'{split_path}/{label}/*.txt')]\n",
    "            self.text_files += text_files\n",
    "            self.classes += [label]\n",
    "            self.class_to_index[label] = cls_idx\n",
    "        \n",
    "        self.num_classes = len(self.classes)\n",
    "            \n",
    "        # build vocabulary from training and validation texts\n",
    "        self.build_vocab()\n",
    "        \n",
    "    def __getitem__(self, index):\n",
    "        # read the tokenized text file and its label (neg=0, pos=1)\n",
    "        fname, class_idx = self.text_files[index]\n",
    "        \n",
    "        if fname in self.cache:\n",
    "            return self.cache[fname], class_idx\n",
    "        \n",
    "        # read text file \n",
    "        text = open(fname, encoding=\"utf-8\").read()\n",
    "        \n",
    "        # tokenize the text file\n",
    "        tokens = self.tokenizer(text.lower().strip())\n",
    "        \n",
    "        # padding and trimming\n",
    "        if len(tokens) < self.max_len:\n",
    "            num_pads = self.max_len - len(tokens)\n",
    "            tokens = [PAD] * num_pads + tokens\n",
    "        elif len(tokens) > self.max_len:\n",
    "            tokens = tokens[:self.max_len]\n",
    "            \n",
    "        # numericalizing\n",
    "        ids = torch.LongTensor(self.max_len)\n",
    "        for i, word in enumerate(tokens):\n",
    "            if word not in self.vocab.word2index:\n",
    "                ids[i] = self.vocab.word2index[UNK]  # unknown words\n",
    "            elif word != PAD and self.vocab.word2count[word] < self.min_count:\n",
    "                ids[i] = self.vocab.word2index[UNK]  # rare words\n",
    "            else:\n",
    "                ids[i] = self.vocab.word2index[word]\n",
    "                \n",
    "        # save in cache for future use\n",
    "        self.cache[fname] = ids\n",
    "        \n",
    "        return ids, class_idx\n",
    "    \n",
    "    def __len__(self):\n",
    "        return len(self.text_files)\n",
    "    \n",
    "    def build_vocab(self):\n",
    "        if not os.path.exists(self.vocab_path):\n",
    "            vocab = Vocabulary(self.tokenizer)\n",
    "            filenames = glob(f'{self.path}/*/*/*.txt')\n",
    "            for filename in tqdm.notebook.tqdm(filenames, desc='Building Vocab'):\n",
    "                with open(filename, encoding='utf8') as f:\n",
    "                    for line in f:\n",
    "                        vocab.add_sentence(line.lower())\n",
    "\n",
    "            # sort words by their frequencies\n",
    "            words = [(0, PAD), (0, UNK)]\n",
    "            words += sorted([(c, w) for w, c in vocab.word2count.items()], reverse=True)\n",
    "\n",
    "            self.vocab = Vocabulary(self.tokenizer)\n",
    "            for i, (count, word) in enumerate(words):\n",
    "                self.vocab.word2index[word] = i\n",
    "                self.vocab.word2count[word] = count\n",
    "                self.vocab.index2word[i] = word\n",
    "                self.vocab.count += 1\n",
    "\n",
    "            pickle.dump(self.vocab, open(self.vocab_path, 'wb'))\n",
    "        else:\n",
    "            self.vocab = pickle.load(open(self.vocab_path, 'rb'))"
   ]
  },
  {
   "cell_type": "code",
   "execution_count": 18,
   "metadata": {
    "scrolled": true
   },
   "outputs": [],
   "source": [
    "train_ds = TextClassificationDataset(data_dir, tokenizer, 'train', vocab_path, max_len, min_count)\n",
    "train_dl = DataLoader(train_ds, batch_size=batch_size, shuffle=True)\n",
    "\n",
    "valid_ds = TextClassificationDataset(data_dir, tokenizer, 'test', vocab_path, max_len, min_count)\n",
    "valid_dl = DataLoader(valid_ds, batch_size=batch_size, shuffle=False)"
   ]
  },
  {
   "cell_type": "code",
   "execution_count": 19,
   "metadata": {},
   "outputs": [
    {
     "data": {
      "text/plain": [
       "11995"
      ]
     },
     "execution_count": 19,
     "metadata": {},
     "output_type": "execute_result"
    }
   ],
   "source": [
    "len(train_ds)"
   ]
  },
  {
   "cell_type": "code",
   "execution_count": 20,
   "metadata": {},
   "outputs": [
    {
     "data": {
      "text/plain": [
       "4006"
      ]
     },
     "execution_count": 20,
     "metadata": {},
     "output_type": "execute_result"
    }
   ],
   "source": [
    "len(valid_ds)"
   ]
  },
  {
   "cell_type": "code",
   "execution_count": 21,
   "metadata": {},
   "outputs": [
    {
     "data": {
      "text/plain": [
       "['anger', 'fear', 'joy', 'love', 'sadness', 'surprise']"
      ]
     },
     "execution_count": 21,
     "metadata": {},
     "output_type": "execute_result"
    }
   ],
   "source": [
    "train_ds.classes"
   ]
  },
  {
   "cell_type": "code",
   "execution_count": 22,
   "metadata": {},
   "outputs": [
    {
     "data": {
      "text/plain": [
       "{'anger': 0, 'fear': 1, 'joy': 2, 'love': 3, 'sadness': 4, 'surprise': 5}"
      ]
     },
     "execution_count": 22,
     "metadata": {},
     "output_type": "execute_result"
    }
   ],
   "source": [
    "train_ds.class_to_index"
   ]
  },
  {
   "cell_type": "code",
   "execution_count": 23,
   "metadata": {
    "scrolled": true
   },
   "outputs": [
    {
     "name": "stdout",
     "output_type": "stream",
     "text": [
      "anger\n",
      "[   0    0    0    0    0    0    0    0    0    0    0    0    0    0\n",
      "    0    0    0    0    0    0    0    0    0    0    0    0    0    0\n",
      "    0    0    0    0    0    0    0    0    2    3   14   84   64    7\n",
      "  658  630    9    2   15 3189    7   96    1   32   24    1    1   35\n",
      "    6    1    9   21   11    1 1259   37  487  406]\n"
     ]
    }
   ],
   "source": [
    "ids, label = train_ds[2]\n",
    "\n",
    "print(train_ds.classes[label])\n",
    "print(ids.numpy())"
   ]
  },
  {
   "cell_type": "code",
   "execution_count": 24,
   "metadata": {},
   "outputs": [
    {
     "name": "stdout",
     "output_type": "stream",
     "text": [
      "<pad> <pad> <pad> <pad> <pad> <pad> <pad> <pad> <pad> <pad> <pad> <pad> <pad> <pad> <pad> <pad> <pad> <pad> <pad> <pad> <pad> <pad> <pad> <pad> <pad> <pad> <pad> <pad> <pad> <pad> <pad> <pad> <pad> <pad> <pad> <pad> i feel like there s a dangerous chance that i m pulling a don <unk> on this <unk> <unk> at the <unk> that is my <unk> marriage or future child\n"
     ]
    }
   ],
   "source": [
    "# convert back the sequence of integers into original text\n",
    "print(' '.join([train_ds.vocab.index2word[i.item()] for i in ids]))"
   ]
  },
  {
   "cell_type": "code",
   "execution_count": 25,
   "metadata": {},
   "outputs": [
    {
     "name": "stdout",
     "output_type": "stream",
     "text": [
      "i feel about this totally and completely pissed angry sad disappointed and absolutely furious at tough mudder the biggest rip off on planet earth\n"
     ]
    }
   ],
   "source": [
    "# print the original text\n",
    "print(open(train_ds.text_files[0][0]).read())"
   ]
  },
  {
   "cell_type": "markdown",
   "metadata": {},
   "source": [
    "### Vovcabulary size"
   ]
  },
  {
   "cell_type": "code",
   "execution_count": 26,
   "metadata": {},
   "outputs": [
    {
     "name": "stdout",
     "output_type": "stream",
     "text": [
      "Vocab size = 4049\n",
      "\n",
      "Most common words:\n",
      "i: 10763\n",
      "feel: 4169\n",
      "and: 3585\n",
      "to: 3340\n",
      "the: 3149\n",
      "a: 2318\n",
      "feeling: 1945\n",
      "that: 1886\n",
      "of: 1785\n",
      "my: 1599\n"
     ]
    }
   ],
   "source": [
    "vocab = train_ds.vocab\n",
    "freqs = [(count, word) for (word, count) in vocab.word2count.items() if count >= min_count]\n",
    "vocab_size = len(freqs) + 2  # for PAD and UNK tokens\n",
    "print(f'Vocab size = {vocab_size}')\n",
    "\n",
    "print('\\nMost common words:')\n",
    "for c, w in sorted(freqs, reverse=True)[:10]:\n",
    "    print(f'{w}: {c}')"
   ]
  },
  {
   "cell_type": "markdown",
   "metadata": {},
   "source": [
    "## LSTM Classifier with Attention mechanism"
   ]
  },
  {
   "cell_type": "code",
   "execution_count": 27,
   "metadata": {},
   "outputs": [],
   "source": [
    "# Attention computes a weighted average of the hidden states of the LSTM Model.\n",
    "# In fact, it produce a weight for each hidden state at different time steps\n",
    "\n",
    "class SelfAttention(nn.Module):\n",
    "    def __init__(self, hidden_dim):\n",
    "        super().__init__()\n",
    "        self.projection = nn.Sequential(\n",
    "            nn.Linear(hidden_dim, 64),\n",
    "            #n.BatchNorm1d(60),\n",
    "            nn.ReLU(True),\n",
    "            nn.Linear(64, 1)\n",
    "        )\n",
    "    \n",
    "    def forward(self, encoder_outputs):\n",
    "        # encoder_outputs = [batch size, sent len, hid dim]\n",
    "        energy = self.projection(encoder_outputs)\n",
    "        # energy = [batch size, sent len, 1]\n",
    "        weights = F.softmax(energy.squeeze(-1), dim=1)\n",
    "        # weights = [batch size, sent len]\n",
    "        outputs = (encoder_outputs * weights.unsqueeze(-1)).sum(dim=1)\n",
    "        # outputs = [batch size, hid dim]\n",
    "        return outputs, weights\n",
    "\n",
    "    \n",
    "class AttentionLSTM(nn.Module):\n",
    "    def __init__(self, vocab_size, embedding_dim, hidden_dim, output_dim, n_layers, bidirectional,  dropout):\n",
    "        super().__init__()\n",
    "        \n",
    "        self.hidden_dim = hidden_dim\n",
    "        self.embedding_dim = embed_size\n",
    "        self.num_layers = n_layers\n",
    "        self.embedding = nn.Embedding(vocab_size, embedding_dim)\n",
    "        self.lstm = nn.LSTM(embedding_dim, hidden_dim, num_layers=n_layers,\n",
    "                            bidirectional=bidirectional, \n",
    "                            dropout= 0.2 if n_layers < 2 else dropout)\n",
    "        self.attention = SelfAttention(hidden_dim)\n",
    "        self.fc = nn.Linear(hidden_dim, output_dim)\n",
    "        self.dropout = nn.Dropout(dropout)\n",
    "        #for name, param in self.lstm.named_parameters():\n",
    "         #   if 'weight' in name:\n",
    "          #      param = nn.Parameter(param + l2_reg * torch.norm(param))\n",
    "        \n",
    "    def forward(self, x):\n",
    "        # x = [sent len, batch size]\n",
    "        embedded = self.embedding(x)\n",
    "        # embedded = [sent len, batch size, emb dim]\n",
    "        output, (hidden, cell) = self.lstm(embedded)\n",
    "        # use 'batch_first' if you want batch size to be the 1st para\n",
    "        # output = [sent len, batch size, hid dim*num directions]\n",
    "        output = output[:, :, :self.hidden_dim] + output[:, :, self.hidden_dim:]\n",
    "        # output = [sent len, batch size, hid dim]\n",
    "        ouput = output.permute(1, 0, 2)\n",
    "        # ouput = [batch size, sent len, hid dim]\n",
    "        new_embed, weights = self.attention(ouput)\n",
    "        # new_embed = [batch size, hid dim]\n",
    "        # weights = [batch size, sent len]\n",
    "        new_embed = self.dropout(new_embed)\n",
    "        return self.fc(new_embed)"
   ]
  },
  {
   "cell_type": "code",
   "execution_count": 28,
   "metadata": {},
   "outputs": [
    {
     "name": "stdout",
     "output_type": "stream",
     "text": [
      "4049\n"
     ]
    }
   ],
   "source": [
    "vocab_size = 2 + len([w for (w, c) in train_ds.vocab.word2count.items() if c >= min_count])\n",
    "print(vocab_size)"
   ]
  },
  {
   "cell_type": "markdown",
   "metadata": {},
   "source": [
    "## Model"
   ]
  },
  {
   "cell_type": "code",
   "execution_count": 29,
   "metadata": {},
   "outputs": [],
   "source": [
    "# LSTM parameters\n",
    "embed_size = 100\n",
    "hidden_size = 256\n",
    "num_layers = 4\n",
    "\n",
    "# training parameters\n",
    "learning_rate = 0.001\n",
    "num_epochs =10\n",
    "l2_reg=0.001"
   ]
  },
  {
   "cell_type": "code",
   "execution_count": 30,
   "metadata": {},
   "outputs": [
    {
     "data": {
      "text/plain": [
       "AttentionLSTM(\n",
       "  (embedding): Embedding(4049, 100)\n",
       "  (lstm): LSTM(100, 256, num_layers=4, dropout=0.3, bidirectional=True)\n",
       "  (attention): SelfAttention(\n",
       "    (projection): Sequential(\n",
       "      (0): Linear(in_features=256, out_features=64, bias=True)\n",
       "      (1): ReLU(inplace=True)\n",
       "      (2): Linear(in_features=64, out_features=1, bias=True)\n",
       "    )\n",
       "  )\n",
       "  (fc): Linear(in_features=256, out_features=6, bias=True)\n",
       "  (dropout): Dropout(p=0.3, inplace=False)\n",
       ")"
      ]
     },
     "execution_count": 30,
     "metadata": {},
     "output_type": "execute_result"
    }
   ],
   "source": [
    "model = AttentionLSTM(vocab_size, embed_size, hidden_size,\n",
    "                      output_dim=train_ds.num_classes, \n",
    "                      n_layers=num_layers, bidirectional=True, dropout=0.3)\n",
    "\n",
    "\n",
    "device = torch.device('cuda' if torch.cuda.is_available() else 'cpu')\n",
    "model = model.to(device)\n",
    "model"
   ]
  },
  {
   "cell_type": "code",
   "execution_count": 31,
   "metadata": {},
   "outputs": [],
   "source": [
    "criterion = nn.CrossEntropyLoss().to(device)\n",
    "criterion = criterion.to(device)\n",
    "    \n",
    "optimizer = optim.Adam(model.parameters(), betas=(0.7, 0.99))\n",
    "scheduler = optim.lr_scheduler.StepLR(optimizer, step_size=1, gamma=0.9)"
   ]
  },
  {
   "cell_type": "markdown",
   "metadata": {},
   "source": [
    "### Training"
   ]
  },
  {
   "cell_type": "code",
   "execution_count": 32,
   "metadata": {
    "scrolled": false
   },
   "outputs": [
    {
     "name": "stdout",
     "output_type": "stream",
     "text": [
      "[Epoch:  1/10] | Training Loss: 0.0241 | Testing Loss: 0.0209 | Training Acc:           35.39 | Testing Acc: 45.69\n",
      "[Epoch:  2/10] | Training Loss: 0.0147 | Testing Loss: 0.0092 | Training Acc:           64.59 | Testing Acc: 79.23\n",
      "[Epoch:  3/10] | Training Loss: 0.0067 | Testing Loss: 0.0060 | Training Acc:           84.96 | Testing Acc: 86.57\n",
      "[Epoch:  4/10] | Training Loss: 0.0040 | Testing Loss: 0.0045 | Training Acc:           90.87 | Testing Acc: 88.71\n",
      "[Epoch:  5/10] | Training Loss: 0.0029 | Testing Loss: 0.0041 | Training Acc:           92.85 | Testing Acc: 90.35\n",
      "[Epoch:  6/10] | Training Loss: 0.0023 | Testing Loss: 0.0038 | Training Acc:           93.89 | Testing Acc: 91.05\n",
      "[Epoch:  7/10] | Training Loss: 0.0018 | Testing Loss: 0.0045 | Training Acc:           95.06 | Testing Acc: 90.20\n",
      "[Epoch:  8/10] | Training Loss: 0.0016 | Testing Loss: 0.0041 | Training Acc:           95.61 | Testing Acc: 91.20\n",
      "[Epoch:  9/10] | Training Loss: 0.0014 | Testing Loss: 0.0043 | Training Acc:           96.39 | Testing Acc: 91.08\n",
      "\n"
     ]
    },
    {
     "data": {
      "application/vnd.jupyter.widget-view+json": {
       "model_id": "3f8bb85624974fcebd16f6924085d940",
       "version_major": 2,
       "version_minor": 0
      },
      "text/plain": [
       "Training:   0%|          | 0/188 [00:00<?, ?it/s]"
      ]
     },
     "metadata": {},
     "output_type": "display_data"
    },
    {
     "data": {
      "application/vnd.jupyter.widget-view+json": {
       "model_id": "0a67705791a34ff9987b04a375082dbc",
       "version_major": 2,
       "version_minor": 0
      },
      "text/plain": [
       "Validation:   0%|          | 0/63 [00:00<?, ?it/s]"
      ]
     },
     "metadata": {},
     "output_type": "display_data"
    }
   ],
   "source": [
    "hist = train(model, train_dl, valid_dl, criterion, optimizer, device, scheduler, num_epochs)"
   ]
  },
  {
   "cell_type": "code",
   "execution_count": 33,
   "metadata": {},
   "outputs": [],
   "source": [
    "train_hist, valid_hist=hist"
   ]
  },
  {
   "cell_type": "code",
   "execution_count": 34,
   "metadata": {},
   "outputs": [
    {
     "data": {
      "image/png": "[encoded data removed]",
      "text/plain": [
       "<Figure size 1440x720 with 2 Axes>"
      ]
     },
     "metadata": {
      "needs_background": "light"
     },
     "output_type": "display_data"
    }
   ],
   "source": [
    "# Plot training and validation accuracy and loss in one figure\n",
    "\n",
    "train_loss=[x[0] for x in train_hist]\n",
    "val_loss=[x[0] for x in valid_hist]\n",
    "train_accuracy=[x[1] for x in train_hist]\n",
    "val_accuracy=[x[1] for x in valid_hist]\n",
    "\n",
    "\n",
    "\n",
    "plt.figure(figsize=(20, 10))\n",
    "plt.rcParams.update({'font.size': 15})\n",
    "\n",
    "plt.subplot(1, 2, 1)\n",
    "plt.plot(train_accuracy)\n",
    "plt.plot(val_accuracy)\n",
    "plt.title('Model accuracy')\n",
    "plt.ylabel('Accuracy')\n",
    "plt.xlabel('Epoch')\n",
    "plt.legend(['Train', 'Val'], loc='upper left')\n",
    "\n",
    "\n",
    "\n",
    "plt.subplot(1, 2, 2)\n",
    "plt.plot(train_loss)\n",
    "plt.plot(val_loss)\n",
    "plt.title('Model loss')\n",
    "plt.ylabel('Loss')\n",
    "plt.xlabel('Epoch')\n",
    "plt.legend(['Train', 'Val'], loc='upper left')\n",
    "plt.savefig('Images/LSTM_Accuracy_Loss.png')\n",
    "\n",
    "plt.show()"
   ]
  },
  {
   "cell_type": "code",
   "execution_count": 35,
   "metadata": {},
   "outputs": [
    {
     "data": {
      "application/vnd.jupyter.widget-view+json": {
       "model_id": "0fb5b0ab984a4802b14577780ba4ebe0",
       "version_major": 2,
       "version_minor": 0
      },
      "text/plain": [
       "Validation:   0%|          | 0/63 [00:00<?, ?it/s]"
      ]
     },
     "metadata": {},
     "output_type": "display_data"
    }
   ],
   "source": [
    "#Evaluateion model on test set\n",
    "\n",
    "test_ds = TextClassificationDataset(data_dir, tokenizer, 'test', vocab_path, max_len, min_count)\n",
    "test_dl = DataLoader(test_ds, batch_size=batch_size, shuffle=True)\n",
    "test_loss,test_acc, test_confusion_matrix= test(model,test_dl, criterion, device)"
   ]
  },
  {
   "cell_type": "code",
   "execution_count": 36,
   "metadata": {},
   "outputs": [
    {
     "name": "stdout",
     "output_type": "stream",
     "text": [
      "Test loss: 0.0055\n",
      "Test accuracy: 0.9080\n"
     ]
    }
   ],
   "source": [
    "# Print the metrics\n",
    "print(f'Test loss: {test_loss:.4f}')\n",
    "print(f'Test accuracy: {test_acc:.4f}')\n",
    "#print(f'Test F1-score: {test_f1:.4f}')\n",
    "\n"
   ]
  },
  {
   "cell_type": "code",
   "execution_count": 37,
   "metadata": {},
   "outputs": [
    {
     "data": {
      "image/png": "[encoded data removed]",
      "text/plain": [
       "<Figure size 720x720 with 1 Axes>"
      ]
     },
     "metadata": {
      "needs_background": "light"
     },
     "output_type": "display_data"
    }
   ],
   "source": [
    "# Plot the confusion matrix\n",
    "fig, ax =plt.subplots(figsize=(10,10))\n",
    "sns.heatmap(test_confusion_matrix, annot=True, cmap=\"Blues\", fmt='g', cbar=False, annot_kws={\"size\":25})\n",
    "plt.title('Confusion Matrix LSTM', fontsize=20)\n",
    "plt.xlabel('Predicted')\n",
    "plt.ylabel('Actual')\n",
    "plt.savefig('Images/Confusion_Matrix_LSTM.png')\n",
    "plt.show()"
   ]
  },
  {
   "cell_type": "code",
   "execution_count": null,
   "metadata": {},
   "outputs": [],
   "source": []
  }
 ],
 "metadata": {
  "gist": {
   "data": {
    "description": "Untitled.ipynb",
    "public": false
   },
   "id": ""
  },
  "kernelspec": {
   "display_name": "Python 3 (ipykernel)",
   "language": "python",
   "name": "python3"
  },
  "language_info": {
   "codemirror_mode": {
    "name": "ipython",
    "version": 3
   },
   "file_extension": ".py",
   "mimetype": "text/x-python",
   "name": "python",
   "nbconvert_exporter": "python",
   "pygments_lexer": "ipython3",
   "version": "3.10.6"
  }
 },
 "nbformat": 4,
 "nbformat_minor": 2
}
